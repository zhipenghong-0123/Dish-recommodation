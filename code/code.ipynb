{
 "cells": [
  {
   "cell_type": "code",
   "execution_count": 1,
   "metadata": {
    "pycharm": {
     "is_executing": false
    }
   },
   "outputs": [],
   "source": [
    "import pandas as pd \n",
    "import numpy as np\n",
    "import matplotlib.pyplot as plt\n",
    "from pylab import mpl\n",
    "mpl.rcParams['font.sans-serif']=['SimHei']\n",
    "from sklearn.model_selection import train_test_split\n"
   ]
  },
  {
   "cell_type": "code",
   "execution_count": 2,
   "metadata": {
    "pycharm": {
     "is_executing": false
    }
   },
   "outputs": [],
   "source": [
    "#任务1.1 文件读取\n",
    "info=pd.read_csv('meal_order_info.csv',encoding='GBK')\n",
    "detail=pd.read_csv('meal_order_detail.csv')"
   ]
  },
  {
   "cell_type": "code",
   "execution_count": 3,
   "metadata": {
    "pycharm": {
     "is_executing": false
    }
   },
   "outputs": [],
   "source": [
    "#任务1.2 去掉特殊的字符\n",
    "newdishname=[]\n",
    "for i in detail.dishes_name.tolist():\n",
    "    if '/n' or '/r' in i:\n",
    "        a=i.replace('\\n','').replace('\\r','')\n",
    "        newdishname.append(a)\n",
    "detail.dishes_name=newdishname"
   ]
  },
  {
   "cell_type": "code",
   "execution_count": 4,
   "metadata": {
    "pycharm": {
     "is_executing": false
    }
   },
   "outputs": [],
   "source": [
    "#任务1.3 构建热度函数\n",
    "def hot_rating(data):\n",
    "    return (data-data.min())/(data.max()-data.min())\n"
   ]
  },
  {
   "cell_type": "code",
   "execution_count": 5,
   "metadata": {
    "pycharm": {
     "is_executing": false
    },
    "scrolled": true
   },
   "outputs": [
    {
     "name": "stdout",
     "output_type": "stream",
     "text": [
      "2016年8月销量为：463704\n"
     ]
    },
    {
     "data": {
      "image/png": "[encoded data removed]",
      "text/plain": [
       "<Figure size 432x288 with 1 Axes>"
      ]
     },
     "metadata": {
      "needs_background": "light"
     },
     "output_type": "display_data"
    }
   ],
   "source": [
    "#任务1.4 画图\n",
    "data=detail[['dishes_name','counts','amounts']]\n",
    "data.groupby('dishes_name').sum().sort_values(by='counts').tail(10)['counts'].plot.barh(title=\"菜品热销Top10\")\n",
    "print(\"2016年8月销量为：\"+str(sum(data.counts*data.amounts)))"
   ]
  },
  {
   "cell_type": "code",
   "execution_count": 6,
   "metadata": {
    "pycharm": {
     "is_executing": false
    }
   },
   "outputs": [
    {
     "data": {
      "text/plain": [
       "1    0.987302\n",
       "0    0.009524\n",
       "2    0.003175\n",
       "Name: order_status, dtype: float64"
      ]
     },
     "execution_count": 6,
     "metadata": {},
     "output_type": "execute_result"
    }
   ],
   "source": [
    "#任务2.1 订单状态占比\n",
    "info.order_status.value_counts(normalize=True)"
   ]
  },
  {
   "cell_type": "code",
   "execution_count": 7,
   "metadata": {
    "pycharm": {
     "is_executing": false
    }
   },
   "outputs": [],
   "source": [
    "#任务2.2 选取有效的订单数据\n",
    "info=info[info.order_status==1]\n",
    "info=info.drop(['mode','cashier_id','pc_id','order_number','print_doc_bill_num','lock_table_info','check_closed'],axis=1)\n",
    "detail=detail.drop(['logicprn_name','parent_class_name','cost','discount_amt','discount_reason','kick_back','add_info','bar_code'],axis=1)\n",
    "detail=detail.drop(index=(detail.loc[(detail['dishes_name']=='白饭/小碗')].index))\n",
    "detail=detail.drop(index=(detail.loc[(detail['dishes_name']=='白饭/大碗')].index))\n",
    "#删除在info中没有的订单\n",
    "drop_list=list(set(detail.order_id.tolist())-set(info.info_id.tolist()))\n",
    "detail=detail[~detail['order_id'].isin(drop_list)]"
   ]
  },
  {
   "cell_type": "code",
   "execution_count": 8,
   "metadata": {
    "pycharm": {
     "is_executing": false,
     "name": "#%%\n"
    },
    "scrolled": true
   },
   "outputs": [],
   "source": [
    "#任务2.3 选取主要特征\n",
    "data2=detail[['dishes_name','emp_id']]"
   ]
  },
  {
   "cell_type": "code",
   "execution_count": 9,
   "metadata": {
    "pycharm": {
     "is_executing": false,
     "name": "#%%\n"
    }
   },
   "outputs": [],
   "source": [
    "#任务3.1 划分测试集与训练集\n",
    "data2.emp_id.value_counts()\n",
    "dish_order=data2.drop_duplicates()\n",
    "#三个菜以上的顾客名单\n",
    "customer_list=dish_order.emp_id.value_counts()[dish_order.emp_id.value_counts()>3].index.tolist()\n",
    "#获取所有菜品名称\n",
    "dishes_name=list(set(detail.dishes_name))\n",
    "#按照顾客名单划分测试集与训练集\n",
    "train_data,test_data=train_test_split(customer_list,test_size=0.3)"
   ]
  },
  {
   "cell_type": "code",
   "execution_count": 10,
   "metadata": {
    "pycharm": {
     "is_executing": false
    }
   },
   "outputs": [],
   "source": [
    "#3.2 二维矩阵---函数\n",
    "def two_dimension(customer_list,dishes_list,df):\n",
    "    customer_dish=pd.DataFrame(index=customer_list,columns=dishes_list)\n",
    "    for i in customer_list:\n",
    "        for j in df[df.emp_id==i].dishes_name.tolist():\n",
    "            customer_dish.loc[i,j]=1\n",
    "    customer_dish=customer_dish.fillna(0)\n",
    "    return customer_dish\n",
    "    "
   ]
  },
  {
   "cell_type": "code",
   "execution_count": 11,
   "metadata": {
    "pycharm": {
     "is_executing": false
    }
   },
   "outputs": [],
   "source": [
    "train_customer_dish=two_dimension(train_data,dishes_name,dish_order)\n",
    "test_customer_dish=two_dimension(test_data,dishes_name,dish_order)"
   ]
  },
  {
   "cell_type": "code",
   "execution_count": 12,
   "metadata": {
    "pycharm": {
     "is_executing": false,
     "name": "#%%\n"
    }
   },
   "outputs": [],
   "source": [
    "#任务4 模型构建\n",
    "class ItemCF:\n",
    "    def __init__(self,train_TwoMatrix,test_TwoMatrix,n):\n",
    "        print('-----------模型实例化-----------')\n",
    "        self.train_TwoMatrix=train_TwoMatrix\n",
    "        self.test_TwoMatrix=test_TwoMatrix\n",
    "        self.train_customerID=self.train_TwoMatrix.index.tolist()\n",
    "        self.test_customerID=self.test_TwoMatrix.index.tolist()\n",
    "        self.dish=train_TwoMatrix.columns.tolist()\n",
    "        print('----------生成相似度矩阵---------')\n",
    "        self.sim_all()\n",
    "        print('---------相似度矩阵生成完毕-------')\n",
    "        print('---------生成全顾客推荐列表-------')\n",
    "        self.recommodation_dic(n)\n",
    "       \n",
    "        print('----------全顾客推荐列表生成完毕---------')\n",
    "    #4.1 相似度\n",
    "    #欧几里得距离\n",
    "    def sim_two(self,dish1:list,dish2:list):\n",
    "        return 1/(1+np.sqrt(((np.array(dish1)-np.array(dish2))**2).sum()))\n",
    "    def sim_all(self):\n",
    "        sim_dic={}\n",
    "        for i in self.train_customerID:\n",
    "            dish=self.train_TwoMatrix.loc[i,][self.train_TwoMatrix.loc[i,]==1].index.tolist()\n",
    "            for m1 in dish:\n",
    "                for m2 in dish:\n",
    "                    if m1 ==m2:\n",
    "                        continue\n",
    "                    sim_dic.setdefault(m1,{})\n",
    "                    sim_dic[m1].setdefault(m2,0)\n",
    "                    sim_dic[m1][m2]+=1\n",
    "        self.sim_dic=pd.DataFrame(sim_dic)\n",
    "        self.sim_dic=self.sim_dic.fillna(0)\n",
    "        \n",
    "        self.sim_matrix=pd.DataFrame(columns=self.dish,index=self.dish)\n",
    "        for i in range(len(self.sim_matrix.columns)):\n",
    "            for j in range(len(self.sim_matrix.columns)):\n",
    "                self.sim_matrix.iloc[i,j]=self.sim_two(self.sim_dic.iloc[:,i].tolist(),self.sim_dic.iloc[:,j].tolist())\n",
    "        for i in range(self.sim_matrix.shape[1]):\n",
    "            self.sim_matrix.iloc[i,i]=0\n",
    "            \n",
    "        return self.sim_matrix\n",
    "    \n",
    "    #4.2 生成推荐字典(根据吃过的菜推荐相似度最高的N个)\n",
    "    def recommodation_dic(self,n):   \n",
    "        self.dic={}\n",
    "        for i in self.test_customerID:\n",
    "            dish=self.test_TwoMatrix.loc[i,][self.test_TwoMatrix.loc[i,]==1].index.tolist()\n",
    "            self.dic.setdefault(i,[])\n",
    "            for j in dish:\n",
    "                self.sim_matrix.loc[j].sort_values(ascending=False).index.tolist()[0:n]\n",
    "                self.dic[i].extend(self.sim_matrix.loc[j].sort_values(ascending=False).index.tolist()[0:n])\n"
   ]
  },
  {
   "cell_type": "code",
   "execution_count": 13,
   "metadata": {
    "pycharm": {
     "is_executing": false
    },
    "scrolled": true
   },
   "outputs": [
    {
     "name": "stdout",
     "output_type": "stream",
     "text": [
      "-----------模型实例化-----------\n",
      "----------生成相似度矩阵---------\n",
      "---------相似度矩阵生成完毕-------\n",
      "---------生成全顾客推荐列表-------\n",
      "----------全顾客推荐列表生成完毕---------\n"
     ]
    }
   ],
   "source": [
    "model=ItemCF(train_customer_dish,test_customer_dish,1)"
   ]
  },
  {
   "cell_type": "code",
   "execution_count": 14,
   "metadata": {
    "pycharm": {
     "is_executing": false
    }
   },
   "outputs": [],
   "source": [
    "#5.1构建客户IP字典\n",
    "customerIP={}\n",
    "for i in test_customer_dish.index.tolist():\n",
    "    customerIP[i]=list(test_customer_dish.loc[i,:][test_customer_dish.loc[i,:]==1].index.tolist())\n"
   ]
  },
  {
   "cell_type": "code",
   "execution_count": 15,
   "metadata": {
    "pycharm": {
     "is_executing": false,
     "name": "#%%\n"
    }
   },
   "outputs": [],
   "source": [
    "#5.2模型评价\n",
    "\n",
    "def precise(test_predict_dic,dic):\n",
    "    all_num=0\n",
    "    precise=0\n",
    "    total=0\n",
    "    for i in list(test_predict_dic.keys()):\n",
    "        total+=len(test_predict_dic[i])\n",
    "        for j in test_predict_dic[i]:\n",
    "            if j in dic[i]:\n",
    "                precise+=1\n",
    "    for i in list(dic.keys()):\n",
    "        all_num+=len(dic[i])\n",
    "    print('-------------模型效果分析---------------')\n",
    "    print('客户总喜好个数为',all_num)\n",
    "    print('总推荐个数为',total)\n",
    "    print('准确预测的个数为',precise)\n",
    "    print('预测准确率为',precise/total)\n",
    "    print('召回率',precise/all_num)\n",
    "    return precise/total,precise/all_num"
   ]
  },
  {
   "cell_type": "code",
   "execution_count": 16,
   "metadata": {
    "pycharm": {
     "name": "#%%\n"
    }
   },
   "outputs": [
    {
     "name": "stdout",
     "output_type": "stream",
     "text": [
      "-------------模型效果分析---------------\n",
      "客户总喜好个数为 2427\n",
      "总推荐个数为 2427\n",
      "准确预测的个数为 447\n",
      "预测准确率为 0.1841779975278121\n",
      "召回率 0.1841779975278121\n"
     ]
    }
   ],
   "source": [
    "pre=[]\n",
    "rec=[]\n",
    "\n",
    "a,b=precise(model.dic,customerIP)\n",
    "pre.append(a)\n",
    "rec.append(b)"
   ]
  },
  {
   "cell_type": "code",
   "execution_count": 17,
   "metadata": {
    "pycharm": {
     "is_executing": false,
     "name": "#%%\n"
    }
   },
   "outputs": [
    {
     "name": "stdout",
     "output_type": "stream",
     "text": [
      "1552 ['泡椒凤爪', '重庆特色油烧兔', '木须豌豆', '肉丁茄子']\n",
      "1221 ['小炒羊腰', '凉拌海带豆芽紫菜', '法国波尔多AOC干红葡萄酒原', '辣炒田螺', '宝宝版牛肉肠粉', '辣炒田螺', '凉拌蒜蓉西兰花', '白胡椒胡萝卜羊肉汤', '孜然羊排', '长城窖酿解百纳红酒干红葡萄酒', '哈尔滨啤酒罐装', '香辣腐乳炒虾', '冰糖红豆薏米粥', '肉丁茄子', '哈尔滨啤酒罐装', '五香酱驴肉']\n",
      "1185 ['38度剑南春 ', '爆炒猪肝', '豌豆薯仔猪骨汤', '宝宝版牛肉肠粉', '爆炒猪肝', '辣炒花蛤', '纸杯蛋糕', '长城窖酿解百纳红酒干红葡萄酒', '意文柠檬汁 ', '长城窖酿解百纳红酒干红葡萄酒', '50度古井贡酒', '水煮鱼', '凉拌海带豆芽紫菜', '芹菜炒腰花', '百里香奶油烤紅酒牛肉', '蒜蓉生蚝', '盘蟹蒸蛋', '五彩豆', '青炒扁豆', '三色凉拌手撕兔', '培根花菜', '红酒土豆烧鸭腿', '百里香奶油烤紅酒牛肉']\n",
      "1289 ['油焖麻辣虾', '宝宝版牛肉肠粉', '凉拌蒜蓉西兰花', '蒜香辣花甲', '桂圆枸杞鸽子汤', '香辣腐乳炒虾', '意文柠檬汁 ', '水煮鱼', '凉拌海带豆芽紫菜', '冰糖红豆薏米粥', '盘蟹蒸蛋', '肉丁茄子', '黄花菜炒木耳', '百里香奶油烤紅酒牛肉', '哈尔滨啤酒罐装']\n",
      "1391 ['老式面包', '孜然羊排', '桂圆枸杞鸽子汤', '宝宝版牛肉肠粉', '辣炒田螺', '蒜香辣花甲', '长城窖酿解百纳红酒干红葡萄酒', '香辣腐乳炒虾', '谷稻小庄 ', '香辣腐乳炒虾', '意文柠檬汁 ', '长城窖酿解百纳红酒干红葡萄酒', '凉拌海带豆芽紫菜', '清蒸蝶鱼', '百里香奶油烤紅酒牛肉', '盘蟹蒸蛋', '盘蟹蒸蛋', '木须豌豆', '芹菜炒腰花', '桂圆肉红豆八宝饭', '培根花菜', '哈尔滨啤酒罐装']\n",
      "1251 ['52度泸州老窖 ', '牛尾汤', '法国波尔多AOC干红葡萄酒原', '泡椒凤爪', '孜然羊排', '木须豌豆']\n",
      "1307 ['蛋挞', '桂圆枸杞鸽子汤', '超人气广式肠粉', '香辣腐乳炒虾', '玉竹南北杏鸭腿汤', '清蒸蝶鱼', '百里香奶油烤紅酒牛肉', '木须豌豆', '蒜蓉生蚝', '肉丁茄子', '谷稻小庄 ']\n",
      "1316 ['冰糖红豆薏米粥', '木须豌豆', '肉丁茄子', '百里香奶油烤紅酒牛肉']\n",
      "1215 ['小炒羊腰', '52度泸州老窖 ', '孜然羊排', '谷稻小庄 ', '老式面包', '姜葱炒花蟹', '青岛啤酒罐装', '宝宝版牛肉肠粉', '桂圆枸杞鸽子汤', '蒜香辣花甲', '长城窖酿解百纳红酒干红葡萄酒', '意文柠檬汁 ', '五彩豆', '玉竹南北杏鸭腿汤', '凉拌海带豆芽紫菜', '清蒸蝶鱼', '百里香奶油烤紅酒牛肉', '冰糖红豆薏米粥', '五彩豆', '芹黄鳝丝', '芹菜炒腰花', '盘蟹蒸蛋', '肉丁茄子', '肉丁茄子', '百里香奶油烤紅酒牛肉', '百里香奶油烤紅酒牛肉', '五香酱驴肉', '哈尔滨啤酒罐装']\n",
      "1597 ['法国波尔多AOC干红葡萄酒原', '蛋挞', '盘蟹蒸蛋', '青岛啤酒罐装', '辣炒田螺', '香辣腐乳炒虾', '长城窖酿解百纳红酒干红葡萄酒', '黄花菜炒木耳', '盘蟹蒸蛋', '百里香奶油烤紅酒牛肉']\n",
      "1142 ['重庆特色油烧兔', '泡椒凤爪', '凉拌海带豆芽紫菜', '孜然羊排', '牛尾汤', '谷稻小庄 ', '老式面包', '姜葱炒花蟹', '剁椒鱼头', '盘蟹蒸蛋', '鸡蛋、肉末肠粉', '快炒黄鳝', '香辣腐乳炒虾', '黄花菜炒木耳', '油焖麻辣虾', '青岛啤酒罐装', '宝宝版牛肉肠粉', '孜然羊排', '桂圆枸杞鸽子汤', '自制猪肉脯', '宝宝版牛肉肠粉', '路易拉菲红酒干红', '辣炒花蛤', '凉拌蒜蓉西兰花', '独家薄荷鲜虾牛肉卷', '蒜香辣花甲', '长城窖酿解百纳红酒干红葡萄酒', '意文柠檬汁 ', '长城窖酿解百纳红酒干红葡萄酒', '五彩豆', '水煮鱼', '凉拌海带豆芽紫菜', '清蒸蝶鱼', '百里香奶油烤紅酒牛肉', '土豆西红柿汤面', '盘蟹蒸蛋', '五彩豆', '木须豌豆', '青炒扁豆', '盘蟹蒸蛋', '三色凉拌手撕兔', '蒜蓉生蚝', '肉丁茄子', '黄花菜炒木耳', '红酒土豆烧鸭腿', '百里香奶油烤紅酒牛肉', '百里香奶油烤紅酒牛肉', '哈尔滨啤酒罐装', '哈尔滨啤酒罐装']\n",
      "1150 ['重庆特色油烧兔', '冰糖红豆薏米粥', '凉拌海带豆芽紫菜', '农夫山泉NFC果汁100%橙汁', '法国波尔多AOC干红葡萄酒原', '谷稻小庄 ', '辣炒田螺', '剁椒鱼头', '快炒黄鳝', '油焖麻辣虾', '孜然羊排', '蒙古烤羊腿', '蛋挞', '豌豆薯仔猪骨汤', '凉拌蒜蓉西兰花', '蒜香辣花甲', '超人气广式肠粉', '快炒黄鳝', '桂圆枸杞鸽子汤', '长城窖酿解百纳红酒干红葡萄酒', '打卤面', '香辣腐乳炒虾', '意文柠檬汁 ', '长城窖酿解百纳红酒干红葡萄酒', '50度古井贡酒', '凉拌海带豆芽紫菜', '玉竹南北杏鸭腿汤', '水煮鱼', '凉拌海带豆芽紫菜', '清蒸海鱼', '百里香奶油烤紅酒牛肉', '木须豌豆', '冰糖红豆薏米粥', '青炒扁豆', '芹菜炒腰花', '三色凉拌手撕兔', '肉丁茄子', '肉丁茄子', '黄花菜炒木耳', '五香酱驴肉', '哈尔滨啤酒罐装']\n",
      "986 ['老式面包', '油焖麻辣虾', '孜然羊排', '蒜香辣花甲', '长城窖酿解百纳红酒干红葡萄酒', '意文柠檬汁 ', '土豆西红柿汤面', '清蒸蝶鱼', '木须豌豆', '盘蟹蒸蛋', '红酒土豆烧鸭腿']\n",
      "1558 ['冰糖红豆薏米粥', '凉拌海带豆芽紫菜', '泡椒凤爪', '芝士烩波士顿龙虾', '鸡蛋、肉末肠粉', '纸杯蛋糕', '香辣腐乳炒虾', '50度古井贡酒', '黄花菜炒木耳', '53度茅台', '凉拌海带豆芽紫菜', '桂圆肉红豆八宝饭', '凉拌蒜蓉西兰花', '谷稻小庄 ', '百里香奶油烤紅酒牛肉']\n",
      "1338 ['香酥两吃大虾', '黄油曲奇饼干', '芝士烩波士顿龙虾', '孜然羊排', '自制猪肉脯', '爆炒猪肝', '香辣腐乳炒虾', '凉拌海带豆芽紫菜', '清蒸蝶鱼', '土豆西红柿汤面', '凉拌蒜蓉西兰花', '肉丁茄子']\n",
      "1431 ['法国波尔多AOC干红葡萄酒原', '蛋挞', '干锅田鸡', '美妙绝伦之白莲花', '宝宝版牛肉肠粉', '宝宝版牛肉肠粉', '路易拉菲红酒干红', '蒜香辣花甲', '长城窖酿解百纳红酒干红葡萄酒', '意文柠檬汁 ', '长城窖酿解百纳红酒干红葡萄酒', '百里香奶油烤紅酒牛肉', '青炒扁豆', '凉拌蒜蓉西兰花', '肉丁茄子', '谷稻小庄 ', '百里香奶油烤紅酒牛肉']\n",
      "1542 ['黄油曲奇饼干', '青岛啤酒罐装', '孜然羊排', '玉竹南北杏鸭腿汤', '百里香奶油烤紅酒牛肉']\n",
      "1520 ['凉拌海带豆芽紫菜', '牛尾汤', '香辣腐乳炒虾', '孜然羊排', '豌豆薯仔猪骨汤', '蒜香辣花甲', '清蒸蝶鱼', '百里香奶油烤紅酒牛肉', '五香酱驴肉']\n",
      "1067 ['老式面包', '泡椒凤爪', '蛋挞', '芝士烩波士顿龙虾', '孜然羊排', '桂圆枸杞鸽子汤', '凉拌蒜蓉西兰花', '蒜香辣花甲', '孜然羊排', '长城窖酿解百纳红酒干红葡萄酒', '香辣腐乳炒虾', '五彩豆', '水煮鱼', '清蒸蝶鱼', '百里香奶油烤紅酒牛肉', '盘蟹蒸蛋', '芹菜炒腰花', '青炒扁豆', '盘蟹蒸蛋', '清蒸蝶鱼', '百里香奶油烤紅酒牛肉', '哈尔滨啤酒罐装', '哈尔滨啤酒罐装']\n",
      "1363 ['小炒羊腰', '谷稻小庄 ', '泡椒凤爪', '蛋挞', '剁椒鱼头', '快炒黄鳝', '美妙绝伦之白莲花', '油焖麻辣虾', '蒙古烤羊腿', '番茄甘蓝', '蒜香辣花甲', '孜然羊排', '长城窖酿解百纳红酒干红葡萄酒', '香辣腐乳炒虾', '意文柠檬汁 ', '黄花菜炒木耳', '油焖麻辣虾', '土豆西红柿汤面', '凉拌蒜蓉西兰花', '青炒扁豆', '凉拌蒜蓉西兰花', '肉丁茄子', '黄花菜炒木耳', '培根花菜', '水煮鱼']\n",
      "1169 ['老式面包', '农夫山泉NFC果汁100%橙汁', '黄花菜炒木耳', '谷稻小庄 ', '法国波尔多AOC干红葡萄酒原', '谷稻小庄 ', '姜葱炒花蟹', '鸡蛋、肉末肠粉', '香辣腐乳炒虾', '桂圆枸杞鸽子汤', '路易拉菲红酒干红', '重庆特色油烧兔', '番茄甘蓝', '青岛啤酒罐装', '打卤面', '谷稻小庄 ', '香辣腐乳炒虾', '意文柠檬汁 ', '清蒸海鱼', '百里香奶油烤紅酒牛肉', '芹黄鳝丝', '芹菜炒腰花', '黄花菜炒木耳', '培根花菜', '百里香奶油烤紅酒牛肉', '百里香奶油烤紅酒牛肉', '百里香奶油烤紅酒牛肉']\n",
      "1216 ['农夫山泉NFC果汁100%橙汁', '辣炒田螺', '蒙古烤羊腿', '青岛啤酒罐装', '独家薄荷鲜虾牛肉卷', '快炒黄鳝', '百威啤酒罐装', '长城窖酿解百纳红酒干红葡萄酒', '香辣腐乳炒虾', '凉拌海带豆芽紫菜', '芹黄鳝丝', '肉丁茄子', '清蒸蝶鱼', '谷稻小庄 ', '哈尔滨啤酒罐装']\n",
      "1377 ['黄花菜炒木耳', '油焖麻辣虾', '桂圆枸杞鸽子汤', '独家薄荷鲜虾牛肉卷', '蒜香辣花甲', '长城窖酿解百纳红酒干红葡萄酒', '谷稻小庄 ', '50度古井贡酒', '水煮鱼', '倒立蒸梭子蟹', '盘蟹蒸蛋', '肉丁茄子', '百里香奶油烤紅酒牛肉', '百里香奶油烤紅酒牛肉']\n",
      "1241 ['52度泸州老窖 ', '谷稻小庄 ', '谷稻小庄 ', '美妙绝伦之白莲花', '香辣腐乳炒虾', '桂圆枸杞鸽子汤', '宝宝版牛肉肠粉', '百威啤酒罐装', '长城窖酿解百纳红酒干红葡萄酒', '青炒扁豆', '肉丁茄子', '谷稻小庄 ', '百里香奶油烤紅酒牛肉']\n",
      "1318 ['孜然羊排', '清蒸蝶鱼', '宝宝版牛肉肠粉', '培根花菜', '肉丁茄子']\n",
      "1415 ['凉拌海带豆芽紫菜', '芝士烩波士顿龙虾', '鸡蛋、肉末肠粉', '美妙绝伦之白莲花', '桂圆枸杞鸽子汤', '白胡椒胡萝卜羊肉汤', '孜然羊排', '香辣腐乳炒虾', '意文柠檬汁 ', '油焖麻辣虾', '凉拌海带豆芽紫菜', '凉拌蒜蓉西兰花', '盘蟹蒸蛋', '蒜蓉生蚝', '五香酱驴肉']\n",
      "1207 ['孜然羊排', '泡椒凤爪', '谷稻小庄 ', '青岛啤酒罐装', '孜然羊排', '桂圆枸杞鸽子汤', '豌豆薯仔猪骨汤', '爆炒猪肝', '路易拉菲红酒干红', '辣炒花蛤', '蒜香辣花甲', '超人气广式肠粉', '香辣腐乳炒虾', '香辣腐乳炒虾', '意文柠檬汁 ', '油焖麻辣虾', '盘蟹蒸蛋', '五彩豆', '红酒土豆烧鸭腿', '百里香奶油烤紅酒牛肉', '哈尔滨啤酒罐装']\n",
      "1230 ['牛尾汤', '青岛啤酒罐装', '百里香奶油烤紅酒牛肉', '木须豌豆', '百里香奶油烤紅酒牛肉']\n",
      "1084 ['52度泸州老窖 ', '冰糖红豆薏米粥', '老式面包', '孜然羊排', '黄花菜炒木耳', '谷稻小庄 ', '法国波尔多AOC干红葡萄酒原', '清蒸蝶鱼', '鸡蛋、肉末肠粉', '美妙绝伦之白莲花', '香辣腐乳炒虾', '青岛啤酒罐装', '宝宝版牛肉肠粉', '孜然羊排', '桂圆枸杞鸽子汤', '蛋挞', '豌豆薯仔猪骨汤', '自制猪肉脯', '宝宝版牛肉肠粉', '凉拌蒜蓉西兰花', '独家薄荷鲜虾牛肉卷', '蒜香辣花甲', '快炒黄鳝', '桂圆枸杞鸽子汤', '百威啤酒罐装', '香辣腐乳炒虾', '蒜香辣花甲', '意文柠檬汁 ', '长城窖酿解百纳红酒干红葡萄酒', '小炒羊腰', '凉拌海带豆芽紫菜', '油焖麻辣虾', '五彩豆', '清蒸蝶鱼', '冰糖红豆薏米粥', '蒜蓉生蚝', '凉拌蒜蓉西兰花', '木须豌豆', '芹菜炒腰花', '青炒扁豆', '三色凉拌手撕兔', '蒜蓉生蚝', '肉丁茄子', '百里香奶油烤紅酒牛肉', '红酒土豆烧鸭腿', '哈尔滨啤酒罐装', '哈尔滨啤酒罐装']\n",
      "1589 ['冰糖红豆薏米粥', '香辣腐乳炒虾', '意文柠檬汁 ', '三色凉拌手撕兔', '百里香奶油烤紅酒牛肉']\n",
      "1002 ['小炒羊腰', '凉拌海带豆芽紫菜', '法国波尔多AOC干红葡萄酒原', '蛋挞', '香辣腐乳炒虾', '孜然羊排', '独家薄荷鲜虾牛肉卷', '凉拌海带豆芽紫菜', '芹菜炒腰花', '百里香奶油烤紅酒牛肉', '蒜蓉生蚝', '肉丁茄子']\n",
      "1388 ['52度泸州老窖 ', '香辣腐乳炒虾', '豌豆薯仔猪骨汤', '蒜香辣花甲', '清蒸蝶鱼']\n",
      "1487 ['黄油曲奇饼干', '谷稻小庄 ', '泡椒凤爪', '油焖麻辣虾', '豌豆薯仔猪骨汤', '自制猪肉脯', '宝宝版牛肉肠粉', '独家薄荷鲜虾牛肉卷', '蒜香辣花甲', '孜然羊排', '意文柠檬汁 ', '黄花菜炒木耳', '凉拌海带豆芽紫菜', '清蒸蝶鱼', '百里香奶油烤紅酒牛肉', '芹菜炒腰花', '盘蟹蒸蛋', '肉丁茄子', '黄花菜炒木耳', '百里香奶油烤紅酒牛肉']\n",
      "1574 ['三色凉拌手撕兔', '肉丁茄子', '百里香奶油烤紅酒牛肉', '哈尔滨啤酒罐装']\n",
      "1305 ['凉拌海带豆芽紫菜', '剁椒鱼头', '油焖麻辣虾', '超人气广式肠粉', '50度古井贡酒', '凉拌海带豆芽紫菜', '水煮鱼']\n",
      "1337 ['谷稻小庄 ', '法国波尔多AOC干红葡萄酒原', '木须豌豆', '百里香奶油烤紅酒牛肉']\n",
      "1243 ['泡椒凤爪', '爆炒猪肝', '超人气广式肠粉', '意文柠檬汁 ', '凉拌海带豆芽紫菜', '百里香奶油烤紅酒牛肉', '青炒扁豆']\n",
      "1394 ['法国波尔多AOC干红葡萄酒原', '桂圆枸杞鸽子汤', '自制猪肉脯', '爆炒猪肝', '香辣腐乳炒虾']\n",
      "1249 ['辣炒花蛤', '蒜香辣花甲', '蒜蓉生蚝', '水煮鱼']\n",
      "1462 ['小炒羊腰', '谷稻小庄 ', '鸡蛋、肉末肠粉', '快炒黄鳝', '香辣腐乳炒虾']\n",
      "1433 ['鸡蛋、肉末肠粉', '快炒黄鳝', '美妙绝伦之白莲花', '宝宝版牛肉肠粉', '53度茅台', '快炒黄鳝', '黄花菜炒木耳', '玉竹南北杏鸭腿汤', '凉拌海带豆芽紫菜', '盘蟹蒸蛋', '百里香奶油烤紅酒牛肉', '五香酱驴肉']\n",
      "1551 ['重庆特色油烧兔', '冰糖红豆薏米粥', '孜然羊排', '黄花菜炒木耳', '法国波尔多AOC干红葡萄酒原', '盘蟹蒸蛋', '青岛啤酒罐装', '蒙古烤羊腿', '蛋挞', '豌豆薯仔猪骨汤', '路易拉菲红酒干红', '蒜香辣花甲', '孜然羊排', '桂圆枸杞鸽子汤', '长城窖酿解百纳红酒干红葡萄酒', '蒜香辣花甲', '意文柠檬汁 ', '长城窖酿解百纳红酒干红葡萄酒', '50度古井贡酒', '黄花菜炒木耳', '三色凉拌手撕兔', '法国波尔多AOC干红葡萄酒原', '油焖麻辣虾', '玉竹南北杏鸭腿汤', '凉拌海带豆芽紫菜', '清蒸蝶鱼', '百里香奶油烤紅酒牛肉', '木须豌豆', '百里香奶油烤紅酒牛肉', '土豆西红柿汤面', '芹菜炒腰花', '肉丁茄子', '百里香奶油烤紅酒牛肉', '百里香奶油烤紅酒牛肉', '哈尔滨啤酒罐装']\n",
      "1479 ['冰糖红豆薏米粥', '桂圆枸杞鸽子汤', '桂圆枸杞鸽子汤', '百威啤酒罐装', '香辣腐乳炒虾', '芹菜炒腰花', '芹菜炒腰花', '肉丁茄子', '哈尔滨啤酒罐装']\n",
      "1023 ['52度泸州老窖 ', '孜然羊排', '鸡蛋、肉末肠粉', '油焖麻辣虾', '孜然羊排', '豌豆薯仔猪骨汤', '独家薄荷鲜虾牛肉卷', '蒜香辣花甲', '蒜香辣花甲', '意文柠檬汁 ', '长城窖酿解百纳红酒干红葡萄酒', '50度古井贡酒', '50度古井贡酒', '水煮鱼', '木须豌豆', '桂圆肉红豆八宝饭', '盘蟹蒸蛋', '肉丁茄子', '清蒸蝶鱼', '百里香奶油烤紅酒牛肉', '桂圆肉红豆八宝饭', '哈尔滨啤酒罐装', '五香酱驴肉']\n",
      "1137 ['牛尾汤', '快炒黄鳝', '油焖麻辣虾', '蒜香辣花甲', '桂圆枸杞鸽子汤', '长城窖酿解百纳红酒干红葡萄酒', '黄花菜炒木耳', '水煮鱼', '凉拌海带豆芽紫菜', '清蒸蝶鱼', '百里香奶油烤紅酒牛肉', '百里香奶油烤紅酒牛肉', '木须豌豆', '盘蟹蒸蛋', '黄花菜炒木耳', '清蒸蝶鱼', '哈尔滨啤酒罐装']\n",
      "1093 ['重庆特色油烧兔', '38度剑南春 ', '老式面包', '凉拌海带豆芽紫菜', '孜然羊排', '黄花菜炒木耳', '法国波尔多AOC干红葡萄酒原', '泡椒凤爪', '蛋挞', '蛋挞', '芝士烩波士顿龙虾', '快炒黄鳝', '美妙绝伦之白莲花', '香辣腐乳炒虾', '油焖麻辣虾', '孜然羊排', '豌豆薯仔猪骨汤', '自制猪肉脯', '宝宝版牛肉肠粉', '路易拉菲红酒干红', '辣炒花蛤', '凉拌蒜蓉西兰花', '独家薄荷鲜虾牛肉卷', '蒜香辣花甲', '超人气广式肠粉', '百威啤酒罐装', '长城窖酿解百纳红酒干红葡萄酒', '哈尔滨啤酒罐装', '打卤面', '意文柠檬汁 ', '五彩豆', '土豆西红柿汤面', '三色凉拌手撕兔', '小炒羊腰', '油焖麻辣虾', '凉拌海带豆芽紫菜', '清蒸蝶鱼', '芹菜炒腰花', '百里香奶油烤紅酒牛肉', '倒立蒸梭子蟹', '木须豌豆', '百里香奶油烤紅酒牛肉', '土豆西红柿汤面', '盘蟹蒸蛋', '五彩豆', '木须豌豆', '芹菜炒腰花', '凉拌蒜蓉西兰花', '盘蟹蒸蛋', '黄花菜炒木耳', '辣炒花蛤', '谷稻小庄 ', '百里香奶油烤紅酒牛肉', '五香酱驴肉']\n",
      "1008 ['52度泸州老窖 ', '冰糖红豆薏米粥', '孜然羊排', '牛尾汤', '蛋挞', '剁椒鱼头', '快炒黄鳝', '香辣腐乳炒虾', '宝宝版牛肉肠粉', '辣炒花蛤', '独家薄荷鲜虾牛肉卷', '番茄甘蓝', '蒜香辣花甲', '桂圆枸杞鸽子汤', '打卤面', '香辣腐乳炒虾', '意文柠檬汁 ', '长城窖酿解百纳红酒干红葡萄酒', '五彩豆', '法国波尔多AOC干红葡萄酒原', '玉竹南北杏鸭腿汤', '凉拌海带豆芽紫菜', '清蒸蝶鱼', '木须豌豆', '盘蟹蒸蛋', '芹菜炒腰花', '青炒扁豆', '培根花菜', '百里香奶油烤紅酒牛肉', '清蒸蝶鱼', '百里香奶油烤紅酒牛肉', '哈尔滨啤酒罐装']\n",
      "1254 ['孜然羊排', '老式面包', '油焖麻辣虾', '宝宝版牛肉肠粉', '爆炒猪肝', '谷稻小庄 ', '香辣腐乳炒虾', '清蒸蝶鱼', '盘蟹蒸蛋', '木须豌豆', '肉丁茄子', '百里香奶油烤紅酒牛肉']\n",
      "1203 ['自制猪肉脯', '长城窖酿解百纳红酒干红葡萄酒', '意文柠檬汁 ', '百里香奶油烤紅酒牛肉', '百里香奶油烤紅酒牛肉']\n",
      "1576 ['黄油曲奇饼干', '宝宝版牛肉肠粉', '蒜香辣花甲', '谷稻小庄 ', '香辣腐乳炒虾', '冰糖红豆薏米粥', '盘蟹蒸蛋', '培根花菜', '百里香奶油烤紅酒牛肉']\n",
      "1248 ['老式面包', '黄花菜炒木耳', '法国波尔多AOC干红葡萄酒原', '老式面包', '盘蟹蒸蛋', '重庆特色油烧兔', '蒜香辣花甲', '长城窖酿解百纳红酒干红葡萄酒', '黄花菜炒木耳', '百里香奶油烤紅酒牛肉', '百里香奶油烤紅酒牛肉']\n",
      "1263 ['52度泸州老窖 ', '农夫山泉NFC果汁100%橙汁', '芝士烩波士顿龙虾', '53度茅台', '长城窖酿解百纳红酒干红葡萄酒', '50度古井贡酒', '五彩豆', '清蒸蝶鱼', '芹菜炒腰花', '芹菜炒腰花', '肉丁茄子', '黄花菜炒木耳', '百里香奶油烤紅酒牛肉', '五香酱驴肉']\n",
      "1536 ['冰糖红豆薏米粥', '黄油曲奇饼干', '干锅田鸡', '自制猪肉脯', '宝宝版牛肉肠粉', '孜然羊排', '长城窖酿解百纳红酒干红葡萄酒', '50度古井贡酒', '凉拌海带豆芽紫菜', '清蒸蝶鱼', '倒立蒸梭子蟹', '培根花菜', '百里香奶油烤紅酒牛肉', '爆炒双丝', '百里香奶油烤紅酒牛肉']\n",
      "1220 ['冰糖红豆薏米粥', '谷稻小庄 ', '法国波尔多AOC干红葡萄酒原', '辣炒田螺', '芝士烩波士顿龙虾', '爆炒猪肝', '桂圆枸杞鸽子汤', '纸杯蛋糕', '长城窖酿解百纳红酒干红葡萄酒', '意文柠檬汁 ', '木须豌豆', '哈尔滨啤酒罐装']\n",
      "1461 ['孜然羊排', '牛尾汤', '农夫山泉NFC果汁100%橙汁', '老式面包', '盘蟹蒸蛋', '快炒黄鳝', '凉拌蒜蓉西兰花', '独家薄荷鲜虾牛肉卷', '长城窖酿解百纳红酒干红葡萄酒', '香辣腐乳炒虾', '黄花菜炒木耳', '凉拌海带豆芽紫菜', '凉拌蒜蓉西兰花', '蒜蓉生蚝', '肉丁茄子']\n",
      "1205 ['重庆特色油烧兔', '冰糖红豆薏米粥', '孜然羊排', '黄花菜炒木耳', '泡椒凤爪', '干锅田鸡', '美妙绝伦之白莲花', '青岛啤酒罐装', '孜然羊排', '桂圆枸杞鸽子汤', '重庆特色油烧兔', '独家薄荷鲜虾牛肉卷', '蒜香辣花甲', '香辣腐乳炒虾', '意文柠檬汁 ', '油焖麻辣虾', '玉竹南北杏鸭腿汤', '凉拌海带豆芽紫菜', '清蒸海鱼', '盘蟹蒸蛋', '清蒸蝶鱼', '百里香奶油烤紅酒牛肉']\n",
      "1320 ['重庆特色油烧兔', '52度泸州老窖 ', '农夫山泉NFC果汁100%橙汁', '泡椒凤爪', '桂圆枸杞鸽子汤', '辣炒花蛤', '凉拌蒜蓉西兰花', '孜然羊排', '超人气广式肠粉', '意文柠檬汁 ', '黄花菜炒木耳', '凉拌海带豆芽紫菜', '清蒸蝶鱼', '芹黄鳝丝', '芹菜炒腰花', '盘蟹蒸蛋', '黄花菜炒木耳', '哈尔滨啤酒罐装', '五香酱驴肉', '哈尔滨啤酒罐装']\n",
      "1472 ['泡椒凤爪', '法国波尔多AOC干红葡萄酒原', '蛋挞', '自制猪肉脯', '桂圆枸杞鸽子汤', '香辣腐乳炒虾', '百里香奶油烤紅酒牛肉', '凉拌蒜蓉西兰花', '肉丁茄子']\n",
      "1288 ['凉拌蒜蓉西兰花', '蒜香辣花甲', '香辣腐乳炒虾', '意文柠檬汁 ', '蒜蓉生蚝', '黄花菜炒木耳']\n",
      "1166 ['小炒羊腰', '52度泸州老窖 ', '冰糖红豆薏米粥', '38度剑南春 ', '老式面包', '孜然羊排', '农夫山泉NFC果汁100%橙汁', '谷稻小庄 ', '谷稻小庄 ', '辣炒田螺', '清蒸蝶鱼', '蛋挞', '芝士烩波士顿龙虾', '油焖麻辣虾', '豌豆薯仔猪骨汤', '自制猪肉脯', '宝宝版牛肉肠粉', '路易拉菲红酒干红', '辣炒花蛤', '凉拌蒜蓉西兰花', '蒜香辣花甲', '百威啤酒罐装', '长城窖酿解百纳红酒干红葡萄酒', '打卤面', '香辣腐乳炒虾', '意文柠檬汁 ', '50度古井贡酒', '黄花菜炒木耳', '凉拌海带豆芽紫菜', '清蒸蝶鱼', '百里香奶油烤紅酒牛肉', '盘蟹蒸蛋', '蒜蓉生蚝', '五彩豆', '木须豌豆', '芹菜炒腰花', '芹菜炒腰花', '盘蟹蒸蛋', '三色凉拌手撕兔', '蒜蓉生蚝', '培根花菜', '清蒸蝶鱼', '百里香奶油烤紅酒牛肉', '百里香奶油烤紅酒牛肉', '水煮鱼', '哈尔滨啤酒罐装']\n",
      "1110 ['冰糖红豆薏米粥', '黄油曲奇饼干', '水煮鱼', '黄花菜炒木耳', '谷稻小庄 ', '老式面包', '泡椒凤爪', '快炒黄鳝', '香辣腐乳炒虾', '油焖麻辣虾', '孜然羊排', '桂圆枸杞鸽子汤', '蛋挞', '自制猪肉脯', '宝宝版牛肉肠粉', '青岛啤酒罐装', '路易拉菲红酒干红', '凉拌蒜蓉西兰花', '超人气广式肠粉', '长城窖酿解百纳红酒干红葡萄酒', '意文柠檬汁 ', '长城窖酿解百纳红酒干红葡萄酒', '黄花菜炒木耳', '木须豌豆', '盘蟹蒸蛋', '芹菜炒腰花', '肉丁茄子', '黄花菜炒木耳', '百里香奶油烤紅酒牛肉', '哈尔滨啤酒罐装']\n",
      "1011 ['香酥两吃大虾', '冰糖红豆薏米粥', '黄花菜炒木耳', '芝士烩波士顿龙虾', '桂圆枸杞鸽子汤', '宝宝版牛肉肠粉', '重庆特色油烧兔', '打卤面', '意文柠檬汁 ', '长城窖酿解百纳红酒干红葡萄酒', '50度古井贡酒', '水煮鱼', '清蒸蝶鱼', '倒立蒸梭子蟹', '盘蟹蒸蛋', '芹菜炒腰花', '三色凉拌手撕兔', '清蒸蝶鱼', '哈尔滨啤酒罐装', '五香酱驴肉']\n",
      "1311 ['老式面包', '油焖麻辣虾', '孜然羊排', '宝宝版牛肉肠粉', '独家薄荷鲜虾牛肉卷', '蒜香辣花甲', '香辣腐乳炒虾', '意文柠檬汁 ', '木须豌豆', '青炒扁豆', '百里香奶油烤紅酒牛肉', '哈尔滨啤酒罐装']\n",
      "1131 ['重庆特色油烧兔', '黄油曲奇饼干', '黄花菜炒木耳', '谷稻小庄 ', '老式面包', '姜葱炒花蟹', '油焖麻辣虾', '孜然羊排', '桂圆枸杞鸽子汤', '宝宝版牛肉肠粉', '独家薄荷鲜虾牛肉卷', '蒜香辣花甲', '孜然羊排', '桂圆枸杞鸽子汤', '长城窖酿解百纳红酒干红葡萄酒', '意文柠檬汁 ', '长城窖酿解百纳红酒干红葡萄酒', '50度古井贡酒', '油焖麻辣虾', '水煮鱼', '清蒸蝶鱼', '木须豌豆', '凉拌蒜蓉西兰花', '芹黄鳝丝', '木须豌豆', '芹菜炒腰花', '芹菜炒腰花', '凉拌蒜蓉西兰花', '盘蟹蒸蛋', '蒜蓉生蚝', '肉丁茄子', '木须豌豆', '培根花菜', '清蒸蝶鱼', '百里香奶油烤紅酒牛肉']\n",
      "1192 ['冰糖红豆薏米粥', '黄花菜炒木耳', '清蒸蝶鱼', '芝士烩波士顿龙虾', '桂圆枸杞鸽子汤', '辣炒花蛤', '香辣腐乳炒虾', '香辣腐乳炒虾', '油焖麻辣虾']\n",
      "1228 ['油焖麻辣虾', '蒜香辣花甲', '长城窖酿解百纳红酒干红葡萄酒', '意文柠檬汁 ', '水煮鱼', '清蒸蝶鱼', '盘蟹蒸蛋', '哈尔滨啤酒罐装']\n",
      "1127 ['小炒羊腰', '重庆特色油烧兔', '冰糖红豆薏米粥', '老式面包', '孜然羊排', '黄油曲奇饼干', '老式面包', '盘蟹蒸蛋', '快炒黄鳝', '美妙绝伦之白莲花', '香辣腐乳炒虾', '油焖麻辣虾', '凉拌菠菜', '孜然羊排', '桂圆枸杞鸽子汤', '自制猪肉脯', '宝宝版牛肉肠粉', '青岛啤酒罐装', '路易拉菲红酒干红', '辣炒花蛤', '凉拌蒜蓉西兰花', '重庆特色油烧兔', '番茄甘蓝', '蒜香辣花甲', '青岛啤酒罐装', '快炒黄鳝', '百威啤酒罐装', '打卤面', '香辣腐乳炒虾', '意文柠檬汁 ', '长城窖酿解百纳红酒干红葡萄酒', '三色凉拌手撕兔', '法国波尔多AOC干红葡萄酒原', '凉拌海带豆芽紫菜', '清蒸海鱼', '百里香奶油烤紅酒牛肉', '五彩豆', '芹黄鳝丝', '芹菜炒腰花', '芹菜炒腰花', '桂圆肉红豆八宝饭', '凉拌蒜蓉西兰花', '盘蟹蒸蛋', '蒜蓉生蚝', '肉丁茄子', '培根花菜', '清蒸蝶鱼', '谷稻小庄 ', '百里香奶油烤紅酒牛肉', '百里香奶油烤紅酒牛肉', '水煮鱼', '哈尔滨啤酒罐装', '五香酱驴肉']\n",
      "1606 ['黄油曲奇饼干', '桂圆枸杞鸽子汤', '孜然羊排', '谷稻小庄 ', '土豆西红柿汤面']\n",
      "1550 ['52度泸州老窖 ', '冰糖红豆薏米粥', '老式面包', '孜然羊排', '谷稻小庄 ', '泡椒凤爪', '香辣腐乳炒虾', '油焖麻辣虾', '桂圆枸杞鸽子汤', '自制猪肉脯', '宝宝版牛肉肠粉', '辣炒田螺', '凉拌蒜蓉西兰花', '独家薄荷鲜虾牛肉卷', '蒜香辣花甲', '青岛啤酒罐装', '桂圆枸杞鸽子汤', '长城窖酿解百纳红酒干红葡萄酒', '打卤面', '香辣腐乳炒虾', '意文柠檬汁 ', '长城窖酿解百纳红酒干红葡萄酒', '50度古井贡酒', '凉拌海带豆芽紫菜', '法国波尔多AOC干红葡萄酒原', '水煮鱼', '凉拌海带豆芽紫菜', '清蒸蝶鱼', '芹黄鳝丝', '木须豌豆', '盘蟹蒸蛋', '蒜蓉生蚝', '黄花菜炒木耳', '百里香奶油烤紅酒牛肉', '百里香奶油烤紅酒牛肉', '哈尔滨啤酒罐装', '哈尔滨啤酒罐装']\n",
      "1603 ['老式面包', '黄花菜炒木耳', '谷稻小庄 ', '法国波尔多AOC干红葡萄酒原', '老式面包', '谷稻小庄 ', '油焖麻辣虾', '青岛啤酒罐装', '宝宝版牛肉肠粉', '重庆特色油烧兔', '独家薄荷鲜虾牛肉卷', '蒜香辣花甲', '青岛啤酒罐装', '打卤面', '木须豌豆', '蒜蓉生蚝', '清蒸蝶鱼', '谷稻小庄 ', '百里香奶油烤紅酒牛肉', '五香酱驴肉']\n",
      "1195 ['重庆特色油烧兔', '52度泸州老窖 ', '冰糖红豆薏米粥', '孜然羊排', '法国波尔多AOC干红葡萄酒原', '泡椒凤爪', '青岛啤酒罐装', '爆炒猪肝', '蛋挞', '爆炒猪肝', '辣炒花蛤', '青岛啤酒罐装', '意文柠檬汁 ', '百里香奶油烤紅酒牛肉', '木须豌豆', '芹菜炒腰花', '谷稻小庄 ']\n",
      "1152 ['剁椒鱼头', '独家薄荷鲜虾牛肉卷', '香辣腐乳炒虾', '谷稻小庄 ', '长城窖酿解百纳红酒干红葡萄酒', '油焖麻辣虾', '蒜蓉生蚝', '肉丁茄子', '培根花菜', '哈尔滨啤酒罐装']\n",
      "1101 ['小炒羊腰', '重庆特色油烧兔', '52度泸州老窖 ', '孜然羊排', '牛尾汤', '快炒黄鳝', '香辣腐乳炒虾', '油焖麻辣虾', '孜然羊排', '53度茅台', '辣炒田螺', '辣炒花蛤', '蒜香辣花甲', '纸杯蛋糕', '长城窖酿解百纳红酒干红葡萄酒', '香辣腐乳炒虾', '打卤面', '长城窖酿解百纳红酒干红葡萄酒', '黄花菜炒木耳', '法国波尔多AOC干红葡萄酒原', '油焖麻辣虾', '玉竹南北杏鸭腿汤', '凉拌海带豆芽紫菜', '清蒸蝶鱼', '清蒸海鱼', '百里香奶油烤紅酒牛肉', '木须豌豆', '木须豌豆', '凉拌蒜蓉西兰花', '芹菜炒腰花', '凉拌蒜蓉西兰花', '三色凉拌手撕兔', '肉丁茄子', '红酒土豆烧鸭腿', '谷稻小庄 ', '哈尔滨啤酒罐装']\n",
      "1275 ['牛尾汤', '农夫山泉NFC果汁100%橙汁', '蛋挞', '鸡蛋、肉末肠粉', '黄花菜炒木耳', '53度茅台', '重庆特色油烧兔', '蒜香辣花甲', '桂圆枸杞鸽子汤', '百威啤酒罐装', '香辣腐乳炒虾', '打卤面', '蒜香辣花甲', '小炒羊腰', '倒立蒸梭子蟹', '蒜蓉生蚝', '芹黄鳝丝', '凉拌蒜蓉西兰花', '肉丁茄子', '百里香奶油烤紅酒牛肉', '百里香奶油烤紅酒牛肉']\n",
      "1534 ['孜然羊排', '凉拌蒜蓉西兰花', '快炒黄鳝', '长城窖酿解百纳红酒干红葡萄酒', '哈尔滨啤酒罐装', '50度古井贡酒', '法国波尔多AOC干红葡萄酒原']\n",
      "1240 ['冰糖红豆薏米粥', '老式面包', '剁椒鱼头', '青岛啤酒罐装', '凉拌蒜蓉西兰花', '百威啤酒罐装', '谷稻小庄 ', '玉竹南北杏鸭腿汤', '53度茅台', '凉拌海带豆芽紫菜', '清蒸海鱼', '土豆西红柿汤面', '桂圆肉红豆八宝饭', '盘蟹蒸蛋', '肉丁茄子', '百里香奶油烤紅酒牛肉', '水煮鱼']\n",
      "1480 ['52度泸州老窖 ', '谷稻小庄 ', '芝士烩波士顿龙虾', '豌豆薯仔猪骨汤', '宝宝版牛肉肠粉', '重庆特色油烧兔', '长城窖酿解百纳红酒干红葡萄酒', '五彩豆', '冰糖红豆薏米粥', '红酒土豆烧鸭腿']\n",
      "1541 ['泡椒凤爪', '剁椒鱼头', '孜然羊排', '自制猪肉脯', '辣炒花蛤', '香辣腐乳炒虾', '长城窖酿解百纳红酒干红葡萄酒', '50度古井贡酒', '黄花菜炒木耳', '玉竹南北杏鸭腿汤', '凉拌海带豆芽紫菜', '青炒扁豆', '肉丁茄子', '百里香奶油烤紅酒牛肉']\n",
      "1200 ['52度泸州老窖 ', '谷稻小庄 ', '青岛啤酒罐装', '培根花菜']\n",
      "1239 ['泡椒凤爪', '凉拌海带豆芽紫菜', '谷稻小庄 ', '快炒黄鳝', '香辣腐乳炒虾', '宝宝版牛肉肠粉', '青岛啤酒罐装', '路易拉菲红酒干红', '凉拌蒜蓉西兰花', '超人气广式肠粉', '长城窖酿解百纳红酒干红葡萄酒', '意文柠檬汁 ', '百里香奶油烤紅酒牛肉', '土豆西红柿汤面', '肉丁茄子', '肉丁茄子', '哈尔滨啤酒罐装', '五香酱驴肉']\n",
      "1015 ['重庆特色油烧兔', '52度泸州老窖 ', '冰糖红豆薏米粥', '泡椒凤爪', '法国波尔多AOC干红葡萄酒原', '姜葱炒花蟹', '凉拌菠菜', '豌豆薯仔猪骨汤', '凉拌蒜蓉西兰花', '蒜香辣花甲', '桂圆枸杞鸽子汤', '香辣腐乳炒虾', '香辣腐乳炒虾', '蒜香辣花甲', '意文柠檬汁 ', '长城窖酿解百纳红酒干红葡萄酒', '小炒羊腰', '凉拌海带豆芽紫菜', '油焖麻辣虾', '玉竹南北杏鸭腿汤', '凉拌海带豆芽紫菜', '清蒸蝶鱼', '百里香奶油烤紅酒牛肉', '盘蟹蒸蛋', '芹菜炒腰花', '凉拌蒜蓉西兰花', '肉丁茄子', '肉丁茄子', '百里香奶油烤紅酒牛肉', '百里香奶油烤紅酒牛肉', '百里香奶油烤紅酒牛肉', '哈尔滨啤酒罐装']\n",
      "1213 ['重庆特色油烧兔', '自制猪肉脯', '辣炒花蛤', '凉拌蒜蓉西兰花', '蒜香辣花甲', '孜然羊排', '长城窖酿解百纳红酒干红葡萄酒', '打卤面', '50度古井贡酒', '50度古井贡酒', '法国波尔多AOC干红葡萄酒原', '水煮鱼', '凉拌海带豆芽紫菜', '土豆西红柿汤面', '肉丁茄子', '红酒土豆烧鸭腿', '谷稻小庄 ', '水煮鱼', '哈尔滨啤酒罐装']\n",
      "982 ['52度泸州老窖 ', '孜然羊排', '快炒黄鳝', '美妙绝伦之白莲花', '油焖麻辣虾', '青岛啤酒罐装', '打卤面', '香辣腐乳炒虾', '意文柠檬汁 ', '黄花菜炒木耳', '百里香奶油烤紅酒牛肉', '蒜蓉生蚝', '百里香奶油烤紅酒牛肉']\n",
      "1555 ['香辣腐乳炒虾', '重庆特色油烧兔', '百里香奶油烤紅酒牛肉', '蒜蓉生蚝']\n",
      "1223 ['冰糖红豆薏米粥', '法国波尔多AOC干红葡萄酒原', '桂圆枸杞鸽子汤', '53度茅台', '青岛啤酒罐装', '重庆特色油烧兔', '独家薄荷鲜虾牛肉卷', '桂圆枸杞鸽子汤', '意文柠檬汁 ', '长城窖酿解百纳红酒干红葡萄酒', '黄花菜炒木耳', '三色凉拌手撕兔', '法国波尔多AOC干红葡萄酒原', '水煮鱼', '百里香奶油烤紅酒牛肉', '土豆西红柿汤面', '盘蟹蒸蛋', '谷稻小庄 ']\n",
      "1025 ['谷稻小庄 ', '法国波尔多AOC干红葡萄酒原', '蛋挞', '青岛啤酒罐装', '凉拌蒜蓉西兰花', '长城窖酿解百纳红酒干红葡萄酒', '谷稻小庄 ', '香辣腐乳炒虾', '玉竹南北杏鸭腿汤', '五彩豆', '百里香奶油烤紅酒牛肉', '芹黄鳝丝', '青炒扁豆', '清蒸蝶鱼', '百里香奶油烤紅酒牛肉', '哈尔滨啤酒罐装']\n",
      "1601 ['油焖麻辣虾', '凉拌蒜蓉西兰花', '意文柠檬汁 ', '水煮鱼', '凉拌海带豆芽紫菜', '盘蟹蒸蛋', '蒜蓉生蚝', '肉丁茄子']\n",
      "1382 ['老式面包', '宝宝版牛肉肠粉', '蒙古烤羊腿', '宝宝版牛肉肠粉', '路易拉菲红酒干红', '凉拌蒜蓉西兰花', '蒜香辣花甲', '青岛啤酒罐装', '香辣腐乳炒虾', '土豆西红柿汤面', '50度古井贡酒', '法国波尔多AOC干红葡萄酒原', '五彩豆', '百里香奶油烤紅酒牛肉', '土豆西红柿汤面', '芹黄鳝丝', '青炒扁豆', '肉丁茄子', '清蒸蝶鱼', '百里香奶油烤紅酒牛肉']\n",
      "1264 ['老式面包', '农夫山泉NFC果汁100%橙汁', '蒜香辣花甲', '青岛啤酒罐装', '百威啤酒罐装', '谷稻小庄 ', '50度古井贡酒', '三色凉拌手撕兔', '百里香奶油烤紅酒牛肉', '盘蟹蒸蛋']\n",
      "1261 ['法国波尔多AOC干红葡萄酒原', '油焖麻辣虾', '番茄甘蓝', '百威啤酒罐装', '玉竹南北杏鸭腿汤', '凉拌海带豆芽紫菜', '清蒸蝶鱼', '盘蟹蒸蛋', '木须豌豆', '肉丁茄子', '黄花菜炒木耳', '百里香奶油烤紅酒牛肉', '百里香奶油烤紅酒牛肉']\n",
      "1112 ['小炒羊腰', '凉拌海带豆芽紫菜', '孜然羊排', '黄油曲奇饼干', '谷稻小庄 ', '蛋挞', '蛋挞', '干锅田鸡', '盘蟹蒸蛋', '快炒黄鳝', '香辣腐乳炒虾', '爆炒猪肝', '孜然羊排', '蛋挞', '自制猪肉脯', '宝宝版牛肉肠粉', '路易拉菲红酒干红', '番茄甘蓝', '蒜香辣花甲', '青岛啤酒罐装', '长城窖酿解百纳红酒干红葡萄酒', '意文柠檬汁 ', '长城窖酿解百纳红酒干红葡萄酒', '凉拌海带豆芽紫菜', '玉竹南北杏鸭腿汤', '凉拌海带豆芽紫菜', '清蒸蝶鱼', '百里香奶油烤紅酒牛肉', '木须豌豆', '芹黄鳝丝', '木须豌豆', '芹菜炒腰花', '青炒扁豆', '盘蟹蒸蛋', '三色凉拌手撕兔', '蒜蓉生蚝', '肉丁茄子', '百里香奶油烤紅酒牛肉', '红酒土豆烧鸭腿', '百里香奶油烤紅酒牛肉', '百里香奶油烤紅酒牛肉', '水煮鱼', '哈尔滨啤酒罐装']\n",
      "1547 ['谷稻小庄 ', '香辣爆羊肝', '芝士烩波士顿龙虾', '鸡蛋、肉末肠粉', '快炒黄鳝', '美妙绝伦之白莲花', '油焖麻辣虾', '蒜香辣花甲', '孜然羊排', '超人气广式肠粉', '香辣腐乳炒虾', '五彩豆', '清蒸海鱼', '木须豌豆', '百里香奶油烤紅酒牛肉', '冰糖红豆薏米粥', '土豆西红柿汤面', '青炒扁豆', '凉拌蒜蓉西兰花', '百里香奶油烤紅酒牛肉']\n",
      "1006 ['谷稻小庄 ', '辣炒田螺', '宝宝版牛肉肠粉', '蒜香辣花甲', '孜然羊排', '长城窖酿解百纳红酒干红葡萄酒', '木须豌豆', '百里香奶油烤紅酒牛肉', '百里香奶油烤紅酒牛肉']\n",
      "1466 ['黄油曲奇饼干', '水煮鱼', '黄花菜炒木耳', '蛋挞', '长城窖酿解百纳红酒干红葡萄酒', '意文柠檬汁 ', '凉拌海带豆芽紫菜', '凉拌海带豆芽紫菜', '百里香奶油烤紅酒牛肉', '芹菜炒腰花', '谷稻小庄 ', '百里香奶油烤紅酒牛肉', '桂圆肉红豆八宝饭']\n",
      "1350 ['52度泸州老窖 ', '黄油曲奇饼干', '农夫山泉NFC果汁100%橙汁', '谷稻小庄 ', '法国波尔多AOC干红葡萄酒原', '泡椒凤爪', '干锅田鸡', '剁椒鱼头', '鸡蛋、肉末肠粉', '蛋挞', '辣炒田螺', '纸杯蛋糕', '香辣腐乳炒虾', '意文柠檬汁 ', '50度古井贡酒', '法国波尔多AOC干红葡萄酒原', '清蒸蝶鱼', '木须豌豆', '芹菜炒腰花', '红酒土豆烧鸭腿', '哈尔滨啤酒罐装', '哈尔滨啤酒罐装']\n",
      "1146 ['谷稻小庄 ', '青岛啤酒罐装', '孜然羊排', '蒜香辣花甲', '纸杯蛋糕', '香辣腐乳炒虾', '水煮鱼', '凉拌海带豆芽紫菜', '红酒土豆烧鸭腿', '百里香奶油烤紅酒牛肉', '五香酱驴肉', '哈尔滨啤酒罐装']\n",
      "1252 ['重庆特色油烧兔', '52度泸州老窖 ', '黄油曲奇饼干', '美妙绝伦之白莲花', '香辣腐乳炒虾', '黄花菜炒木耳', '油焖麻辣虾', '青岛啤酒罐装', '辣炒花蛤', '蒜香辣花甲', '香辣腐乳炒虾', '50度古井贡酒', '清蒸蝶鱼', '木须豌豆']\n",
      "1246 ['黄花菜炒木耳', '蒜香辣花甲', '桂圆枸杞鸽子汤', '长城窖酿解百纳红酒干红葡萄酒', '黄花菜炒木耳', '哈尔滨啤酒罐装']\n",
      "1582 ['重庆特色油烧兔', '谷稻小庄 ', '干锅田鸡', '蛋挞', '自制猪肉脯', '意文柠檬汁 ', '53度茅台', '凉拌海带豆芽紫菜', '肉丁茄子']\n",
      "1103 ['重庆特色油烧兔', '52度泸州老窖 ', '冰糖红豆薏米粥', '凉拌海带豆芽紫菜', '牛尾汤', '水煮鱼', '农夫山泉NFC果汁100%橙汁', '黄花菜炒木耳', '谷稻小庄 ', '法国波尔多AOC干红葡萄酒原', '泡椒凤爪', '清蒸蝶鱼', '蛋挞', '干锅田鸡', '剁椒鱼头', '盘蟹蒸蛋', '美妙绝伦之白莲花', '油焖麻辣虾', '青岛啤酒罐装', '爆炒猪肝', '桂圆枸杞鸽子汤', '豌豆薯仔猪骨汤', '宝宝版牛肉肠粉', '辣炒田螺', '路易拉菲红酒干红', '辣炒花蛤', '重庆特色油烧兔', '独家薄荷鲜虾牛肉卷', '蒜香辣花甲', '孜然羊排', '超人气广式肠粉', '快炒黄鳝', '桂圆枸杞鸽子汤', '香辣腐乳炒虾', '香辣腐乳炒虾', '香辣腐乳炒虾', '意文柠檬汁 ', '长城窖酿解百纳红酒干红葡萄酒', '50度古井贡酒', '50度古井贡酒', '黄花菜炒木耳', '凉拌海带豆芽紫菜', '玉竹南北杏鸭腿汤', '53度茅台', '水煮鱼', '凉拌海带豆芽紫菜', '清蒸蝶鱼', '芹菜炒腰花', '百里香奶油烤紅酒牛肉', '木须豌豆', '倒立蒸梭子蟹', '木须豌豆', '百里香奶油烤紅酒牛肉', '盘蟹蒸蛋', '盘蟹蒸蛋', '五彩豆', '芹黄鳝丝', '木须豌豆', '芹菜炒腰花', '青炒扁豆', '芹菜炒腰花', '三色凉拌手撕兔', '肉丁茄子', '肉丁茄子', '黄花菜炒木耳', '百里香奶油烤紅酒牛肉', '清蒸蝶鱼', '谷稻小庄 ', '百里香奶油烤紅酒牛肉', '桂圆肉红豆八宝饭', '水煮鱼', '哈尔滨啤酒罐装', '哈尔滨啤酒罐装']\n",
      "1306 ['52度泸州老窖 ', '蛋挞', '美妙绝伦之白莲花', '百威啤酒罐装', '玉竹南北杏鸭腿汤', '凉拌海带豆芽紫菜', '百里香奶油烤紅酒牛肉', '红酒土豆烧鸭腿', '清蒸蝶鱼', '水煮鱼']\n",
      "1178 ['蛋挞', '美妙绝伦之白莲花', '重庆特色油烧兔', '蒜香辣花甲', '桂圆枸杞鸽子汤', '长城窖酿解百纳红酒干红葡萄酒', '香辣腐乳炒虾', '意文柠檬汁 ', '水煮鱼', '肉丁茄子', '百里香奶油烤紅酒牛肉']\n",
      "1204 ['香酥两吃大虾', '重庆特色油烧兔', '泡椒凤爪', '香辣腐乳炒虾', '宝宝版牛肉肠粉', '蒙古烤羊腿', '油焖麻辣虾', '清蒸蝶鱼', '清蒸海鱼', '盘蟹蒸蛋', '桂圆肉红豆八宝饭', '三色凉拌手撕兔', '培根花菜', '清蒸蝶鱼', '哈尔滨啤酒罐装', '五香酱驴肉']\n",
      "1562 ['冰糖红豆薏米粥', '老式面包', '凉拌海带豆芽紫菜', '泡椒凤爪', '香辣爆羊肝', '油焖麻辣虾', '桂圆枸杞鸽子汤', '豌豆薯仔猪骨汤', '辣炒田螺', '凉拌蒜蓉西兰花', '蒜香辣花甲', '百威啤酒罐装', '哈尔滨啤酒罐装', '蒜香辣花甲', '意文柠檬汁 ', '长城窖酿解百纳红酒干红葡萄酒', '50度古井贡酒', '黄花菜炒木耳', '三色凉拌手撕兔', '凉拌海带豆芽紫菜', '法国波尔多AOC干红葡萄酒原', '玉竹南北杏鸭腿汤', '水煮鱼', '凉拌海带豆芽紫菜', '清蒸海鱼', '芹黄鳝丝', '芹菜炒腰花', '盘蟹蒸蛋', '肉丁茄子', '培根花菜', '百里香奶油烤紅酒牛肉', '哈尔滨啤酒罐装']\n",
      "1076 ['52度泸州老窖 ', '冰糖红豆薏米粥', '老式面包', '孜然羊排', '农夫山泉NFC果汁100%橙汁', '黄花菜炒木耳', '谷稻小庄 ', '法国波尔多AOC干红葡萄酒原', '泡椒凤爪', '姜葱炒花蟹', '剁椒鱼头', '盘蟹蒸蛋', '鸡蛋、肉末肠粉', '快炒黄鳝', '香辣腐乳炒虾', '油焖麻辣虾', '凉拌菠菜', '孜然羊排', '蒙古烤羊腿', '豌豆薯仔猪骨汤', '辣炒田螺', '辣炒花蛤', '凉拌蒜蓉西兰花', '独家薄荷鲜虾牛肉卷', '番茄甘蓝', '青岛啤酒罐装', '孜然羊排', '快炒黄鳝', '桂圆枸杞鸽子汤', '长城窖酿解百纳红酒干红葡萄酒', '香辣腐乳炒虾', '香辣腐乳炒虾', '意文柠檬汁 ', '五彩豆', '50度古井贡酒', '50度古井贡酒', '黄花菜炒木耳', '凉拌海带豆芽紫菜', '法国波尔多AOC干红葡萄酒原', '53度茅台', '凉拌海带豆芽紫菜', '清蒸蝶鱼', '百里香奶油烤紅酒牛肉', '木须豌豆', '百里香奶油烤紅酒牛肉', '冰糖红豆薏米粥', '凉拌蒜蓉西兰花', '五彩豆', '芹黄鳝丝', '芹菜炒腰花', '青炒扁豆', '芹菜炒腰花', '桂圆肉红豆八宝饭', '盘蟹蒸蛋', '肉丁茄子', '肉丁茄子', '百里香奶油烤紅酒牛肉', '清蒸蝶鱼', '百里香奶油烤紅酒牛肉', '百里香奶油烤紅酒牛肉', '百里香奶油烤紅酒牛肉', '水煮鱼', '哈尔滨啤酒罐装']\n",
      "1171 ['牛尾汤', '谷稻小庄 ', '泡椒凤爪', '孜然羊排', '桂圆枸杞鸽子汤', '蛋挞', '凉拌蒜蓉西兰花', '长城窖酿解百纳红酒干红葡萄酒', '法国波尔多AOC干红葡萄酒原', '凉拌海带豆芽紫菜', '清蒸蝶鱼', '清蒸海鱼', '百里香奶油烤紅酒牛肉', '芹菜炒腰花', '肉丁茄子', '红酒土豆烧鸭腿']\n",
      "1444 ['52度泸州老窖 ', '泡椒凤爪', '孜然羊排', '意文柠檬汁 ', '50度古井贡酒', '黄花菜炒木耳', '油焖麻辣虾', '清蒸蝶鱼', '土豆西红柿汤面', '盘蟹蒸蛋', '青炒扁豆', '肉丁茄子', '百里香奶油烤紅酒牛肉', '哈尔滨啤酒罐装']\n",
      "1197 ['黄花菜炒木耳', '油焖麻辣虾', '孜然羊排', '长城窖酿解百纳红酒干红葡萄酒', '意文柠檬汁 ', '玉竹南北杏鸭腿汤', '百里香奶油烤紅酒牛肉', '木须豌豆', '辣炒花蛤', '清蒸蝶鱼']\n",
      "1545 ['水煮鱼', '农夫山泉NFC果汁100%橙汁', '谷稻小庄 ', '快炒黄鳝', '香辣腐乳炒虾', '爆炒猪肝', '辣炒田螺', '凉拌蒜蓉西兰花', '独家薄荷鲜虾牛肉卷', '快炒黄鳝', '打卤面', '50度古井贡酒', '法国波尔多AOC干红葡萄酒原', '玉竹南北杏鸭腿汤', '清蒸蝶鱼', '芹黄鳝丝', '青炒扁豆', '盘蟹蒸蛋', '红酒土豆烧鸭腿', '百里香奶油烤紅酒牛肉']\n",
      "1457 ['黄花菜炒木耳', '老式面包', '油焖麻辣虾', '青岛啤酒罐装', '孜然羊排', '桂圆枸杞鸽子汤', '长城窖酿解百纳红酒干红葡萄酒', '香辣腐乳炒虾', '意文柠檬汁 ', '长城窖酿解百纳红酒干红葡萄酒', '50度古井贡酒', '水煮鱼', '凉拌蒜蓉西兰花', '青炒扁豆', '盘蟹蒸蛋', '哈尔滨啤酒罐装']\n",
      "1602 ['蛋挞', '姜葱炒花蟹', '美妙绝伦之白莲花', '53度茅台', '凉拌蒜蓉西兰花', '白胡椒胡萝卜羊肉汤', '蒜香辣花甲', '打卤面', '谷稻小庄 ', '法国波尔多AOC干红葡萄酒原', '玉竹南北杏鸭腿汤', '清蒸蝶鱼', '百里香奶油烤紅酒牛肉', '芹黄鳝丝', '青炒扁豆', '芹菜炒腰花', '凉拌蒜蓉西兰花', '蒜蓉生蚝', '辣炒花蛤', '百里香奶油烤紅酒牛肉']\n",
      "1380 ['剁椒鱼头', '香辣腐乳炒虾', '宝宝版牛肉肠粉', '重庆特色油烧兔', '番茄甘蓝', '超人气广式肠粉', '打卤面', '凉拌海带豆芽紫菜', '木须豌豆', '凉拌蒜蓉西兰花', '青炒扁豆', '百里香奶油烤紅酒牛肉', '水煮鱼']\n",
      "1567 ['牛尾汤', '油焖麻辣虾', '桂圆枸杞鸽子汤', '孜然羊排', '谷稻小庄 ', '油焖麻辣虾', '水煮鱼']\n",
      "1091 ['重庆特色油烧兔', '52度泸州老窖 ', '冰糖红豆薏米粥', '孜然羊排', '谷稻小庄 ', '法国波尔多AOC干红葡萄酒原', '泡椒凤爪', '谷稻小庄 ', '辣炒田螺', '蛋挞', '蛋挞', '盘蟹蒸蛋', '芝士烩波士顿龙虾', '快炒黄鳝', '美妙绝伦之白莲花', '香辣腐乳炒虾', '油焖麻辣虾', '青岛啤酒罐装', '蛋挞', '豌豆薯仔猪骨汤', '独家薄荷鲜虾牛肉卷', '蒜香辣花甲', '超人气广式肠粉', '桂圆枸杞鸽子汤', '打卤面', '意文柠檬汁 ', '50度古井贡酒', '黄花菜炒木耳', '小炒羊腰', '法国波尔多AOC干红葡萄酒原', '玉竹南北杏鸭腿汤', '凉拌海带豆芽紫菜', '清蒸海鱼', '木须豌豆', '倒立蒸梭子蟹', '百里香奶油烤紅酒牛肉', '蒜蓉生蚝', '土豆西红柿汤面', '盘蟹蒸蛋', '五彩豆', '芹黄鳝丝', '芹菜炒腰花', '芹菜炒腰花', '青炒扁豆', '凉拌蒜蓉西兰花', '蒜蓉生蚝', '肉丁茄子', '清蒸蝶鱼', '百里香奶油烤紅酒牛肉', '百里香奶油烤紅酒牛肉', '哈尔滨啤酒罐装']\n",
      "1012 ['凉拌海带豆芽紫菜', '黄油曲奇饼干', '美妙绝伦之白莲花', '凉拌菠菜', '孜然羊排', '凉拌海带豆芽紫菜', '盘蟹蒸蛋']\n",
      "1595 ['老式面包', '香辣爆羊肝', '油焖麻辣虾', '桂圆枸杞鸽子汤', '白胡椒胡萝卜羊肉汤', '谷稻小庄 ', '百里香奶油烤紅酒牛肉', '冰糖红豆薏米粥', '盘蟹蒸蛋', '肉丁茄子', '水煮鱼']\n",
      "1144 ['冰糖红豆薏米粥', '谷稻小庄 ', '香辣腐乳炒虾', '油焖麻辣虾', '宝宝版牛肉肠粉', '青岛啤酒罐装', '桂圆枸杞鸽子汤', '谷稻小庄 ', '香辣腐乳炒虾', '意文柠檬汁 ', '长城窖酿解百纳红酒干红葡萄酒', '水煮鱼', '清蒸蝶鱼', '木须豌豆', '盘蟹蒸蛋', '清蒸蝶鱼', '百里香奶油烤紅酒牛肉', '百里香奶油烤紅酒牛肉', '哈尔滨啤酒罐装', '五香酱驴肉']\n",
      "1102 ['38度剑南春 ', '孜然羊排', '谷稻小庄 ', '法国波尔多AOC干红葡萄酒原', '老式面包', '谷稻小庄 ', '干锅田鸡', '芝士烩波士顿龙虾', '美妙绝伦之白莲花', '香辣腐乳炒虾', '油焖麻辣虾', '爆炒猪肝', '孜然羊排', '爆炒猪肝', '桂圆枸杞鸽子汤', '豌豆薯仔猪骨汤', '宝宝版牛肉肠粉', '53度茅台', '路易拉菲红酒干红', '辣炒花蛤', '独家薄荷鲜虾牛肉卷', '蒜香辣花甲', '青岛啤酒罐装', '超人气广式肠粉', '长城窖酿解百纳红酒干红葡萄酒', '香辣腐乳炒虾', '意文柠檬汁 ', '长城窖酿解百纳红酒干红葡萄酒', '50度古井贡酒', '黄花菜炒木耳', '三色凉拌手撕兔', '法国波尔多AOC干红葡萄酒原', '玉竹南北杏鸭腿汤', '水煮鱼', '凉拌海带豆芽紫菜', '清蒸蝶鱼', '清蒸海鱼', '百里香奶油烤紅酒牛肉', '木须豌豆', '盘蟹蒸蛋', '盘蟹蒸蛋', '凉拌蒜蓉西兰花', '木须豌豆', '芹菜炒腰花', '芹菜炒腰花', '青炒扁豆', '盘蟹蒸蛋', '三色凉拌手撕兔', '肉丁茄子', '肉丁茄子', '百里香奶油烤紅酒牛肉', '清蒸蝶鱼', '谷稻小庄 ', '百里香奶油烤紅酒牛肉', '哈尔滨啤酒罐装', '哈尔滨啤酒罐装']\n",
      "1292 ['冰糖红豆薏米粥', '辣炒田螺', '凉拌蒜蓉西兰花', '意文柠檬汁 ', '清蒸蝶鱼', '芹菜炒腰花', '盘蟹蒸蛋', '清蒸蝶鱼']\n",
      "1584 ['谷稻小庄 ', '法国波尔多AOC干红葡萄酒原', '老式面包', '孜然羊排', '宝宝版牛肉肠粉', '打卤面', '木须豌豆', '土豆西红柿汤面', '桂圆肉红豆八宝饭']\n",
      "1342 ['孜然羊排', '快炒黄鳝', '香辣腐乳炒虾', '油焖麻辣虾', '宝宝版牛肉肠粉', '蒜香辣花甲', '香辣腐乳炒虾', '香辣腐乳炒虾', '木须豌豆', '百里香奶油烤紅酒牛肉']\n",
      "1096 ['法国波尔多AOC干红葡萄酒原', '香辣爆羊肝', '谷稻小庄 ', '蛋挞', '蛋挞', '快炒黄鳝', '香辣腐乳炒虾', '油焖麻辣虾', '青岛啤酒罐装', '宝宝版牛肉肠粉', '爆炒猪肝', '桂圆枸杞鸽子汤', '蛋挞', '宝宝版牛肉肠粉', '辣炒田螺', '辣炒花蛤', '重庆特色油烧兔', '独家薄荷鲜虾牛肉卷', '蒜香辣花甲', '快炒黄鳝', '桂圆枸杞鸽子汤', '长城窖酿解百纳红酒干红葡萄酒', '香辣腐乳炒虾', '打卤面', '谷稻小庄 ', '香辣腐乳炒虾', '意文柠檬汁 ', '长城窖酿解百纳红酒干红葡萄酒', '五彩豆', '黄花菜炒木耳', '油焖麻辣虾', '水煮鱼', '百里香奶油烤紅酒牛肉', '木须豌豆', '百里香奶油烤紅酒牛肉', '蒜蓉生蚝', '土豆西红柿汤面', '五彩豆', '木须豌豆', '芹菜炒腰花', '芹菜炒腰花', '盘蟹蒸蛋', '蒜蓉生蚝', '黄花菜炒木耳', '培根花菜', '百里香奶油烤紅酒牛肉', '哈尔滨啤酒罐装', '五香酱驴肉']\n",
      "1270 ['油焖麻辣虾', '桂圆枸杞鸽子汤', '宝宝版牛肉肠粉', '蒜香辣花甲', '桂圆枸杞鸽子汤', '香辣腐乳炒虾', '长城窖酿解百纳红酒干红葡萄酒', '50度古井贡酒', '水煮鱼', '芹菜炒腰花', '木须豌豆', '青炒扁豆', '盘蟹蒸蛋', '蒜蓉生蚝', '肉丁茄子', '哈尔滨啤酒罐装']\n",
      "1283 ['自制猪肉脯', '凉拌蒜蓉西兰花', '意文柠檬汁 ', '长城窖酿解百纳红酒干红葡萄酒', '五彩豆']\n",
      "1094 ['冰糖红豆薏米粥', '38度剑南春 ', '老式面包', '农夫山泉NFC果汁100%橙汁', '黄花菜炒木耳', '谷稻小庄 ', '干锅田鸡', '宝宝版牛肉肠粉', '孜然羊排', '桂圆枸杞鸽子汤', '宝宝版牛肉肠粉', '凉拌蒜蓉西兰花', '重庆特色油烧兔', '番茄甘蓝', '蒜香辣花甲', '青岛啤酒罐装', '孜然羊排', '超人气广式肠粉', '桂圆枸杞鸽子汤', '长城窖酿解百纳红酒干红葡萄酒', '打卤面', '谷稻小庄 ', '蒜香辣花甲', '香辣腐乳炒虾', '意文柠檬汁 ', '长城窖酿解百纳红酒干红葡萄酒', '黄花菜炒木耳', '水煮鱼', '清蒸蝶鱼', '百里香奶油烤紅酒牛肉', '土豆西红柿汤面', '盘蟹蒸蛋', '凉拌蒜蓉西兰花', '芹黄鳝丝', '木须豌豆', '青炒扁豆', '木须豌豆', '百里香奶油烤紅酒牛肉', '清蒸蝶鱼', '水煮鱼', '哈尔滨啤酒罐装', '五香酱驴肉', '哈尔滨啤酒罐装']\n",
      "1442 ['小炒羊腰', '黄花菜炒木耳', '宝宝版牛肉肠粉', '路易拉菲红酒干红', '芹菜炒腰花']\n",
      "1092 ['52度泸州老窖 ', '冰糖红豆薏米粥', '孜然羊排', '牛尾汤', '法国波尔多AOC干红葡萄酒原', '姜葱炒花蟹', '油焖麻辣虾', '青岛啤酒罐装', '孜然羊排', '桂圆枸杞鸽子汤', '蛋挞', '豌豆薯仔猪骨汤', '宝宝版牛肉肠粉', '53度茅台', '番茄甘蓝', '蒜香辣花甲', '纸杯蛋糕', '长城窖酿解百纳红酒干红葡萄酒', '打卤面', '长城窖酿解百纳红酒干红葡萄酒', '五彩豆', '黄花菜炒木耳', '法国波尔多AOC干红葡萄酒原', '玉竹南北杏鸭腿汤', '凉拌海带豆芽紫菜', '芹菜炒腰花', '百里香奶油烤紅酒牛肉', '木须豌豆', '土豆西红柿汤面', '凉拌蒜蓉西兰花', '盘蟹蒸蛋', '三色凉拌手撕兔', '肉丁茄子', '培根花菜', '百里香奶油烤紅酒牛肉', '谷稻小庄 ', '百里香奶油烤紅酒牛肉', '桂圆肉红豆八宝饭', '爆炒双丝', '哈尔滨啤酒罐装']\n",
      "1009 ['老式面包', '法国波尔多AOC干红葡萄酒原', '泡椒凤爪', '剁椒鱼头', '宝宝版牛肉肠粉', '蛋挞', '青岛啤酒罐装', '辣炒花蛤', '凉拌蒜蓉西兰花', '重庆特色油烧兔', '独家薄荷鲜虾牛肉卷', '蒜香辣花甲', '桂圆枸杞鸽子汤', '五彩豆', '黄花菜炒木耳', '木须豌豆', '木须豌豆', '百里香奶油烤紅酒牛肉', '土豆西红柿汤面', '芹菜炒腰花', '肉丁茄子', '百里香奶油烤紅酒牛肉']\n",
      "1174 ['冰糖红豆薏米粥', '油焖麻辣虾', '桂圆枸杞鸽子汤', '重庆特色油烧兔', '蒜香辣花甲', '意文柠檬汁 ', '凉拌蒜蓉西兰花', '盘蟹蒸蛋', '肉丁茄子', '百里香奶油烤紅酒牛肉']\n",
      "1319 ['快炒黄鳝', '辣炒花蛤', '黄花菜炒木耳', '芹菜炒腰花']\n",
      "1170 ['重庆特色油烧兔', '52度泸州老窖 ', '黄油曲奇饼干', '黄花菜炒木耳', '快炒黄鳝', '油焖麻辣虾', '辣炒花蛤', '白胡椒胡萝卜羊肉汤', '意文柠檬汁 ', '50度古井贡酒', '黄花菜炒木耳', '凉拌海带豆芽紫菜', '清蒸蝶鱼', '木须豌豆', '土豆西红柿汤面', '五彩豆', '木须豌豆', '培根花菜', '百里香奶油烤紅酒牛肉']\n",
      "1129 ['黄油曲奇饼干', '鸡蛋、肉末肠粉', '油焖麻辣虾', '宝宝版牛肉肠粉', '蛋挞', '自制猪肉脯', '辣炒花蛤', '凉拌蒜蓉西兰花', '白胡椒胡萝卜羊肉汤', '番茄甘蓝', '蒜香辣花甲', '超人气广式肠粉', '纸杯蛋糕', '打卤面', '50度古井贡酒', '黄花菜炒木耳', '53度茅台', '凉拌海带豆芽紫菜', '倒立蒸梭子蟹', '芹菜炒腰花', '桂圆肉红豆八宝饭', '凉拌蒜蓉西兰花', '肉丁茄子', '肉丁茄子', '黄花菜炒木耳', '培根花菜', '百里香奶油烤紅酒牛肉', '百里香奶油烤紅酒牛肉', '桂圆肉红豆八宝饭', '哈尔滨啤酒罐装', '五香酱驴肉']\n",
      "1448 ['蛋挞', '香辣腐乳炒虾', '油焖麻辣虾', '蒜香辣花甲', '桂圆枸杞鸽子汤', '长城窖酿解百纳红酒干红葡萄酒', '香辣腐乳炒虾', '意文柠檬汁 ', '水煮鱼', '盘蟹蒸蛋', '蒜蓉生蚝', '哈尔滨啤酒罐装']\n",
      "1451 ['法国波尔多AOC干红葡萄酒原', '桂圆枸杞鸽子汤', '路易拉菲红酒干红', '意文柠檬汁 ', '长城窖酿解百纳红酒干红葡萄酒', '水煮鱼', '凉拌海带豆芽紫菜', '哈尔滨啤酒罐装']\n",
      "1313 ['泡椒凤爪', '孜然羊排', '谷稻小庄 ', '干锅田鸡', '香辣腐乳炒虾', '凉拌蒜蓉西兰花', '独家薄荷鲜虾牛肉卷', '长城窖酿解百纳红酒干红葡萄酒', '长城窖酿解百纳红酒干红葡萄酒', '百里香奶油烤紅酒牛肉', '土豆西红柿汤面', '培根花菜', '清蒸蝶鱼']\n",
      "1571 ['孜然羊排', '牛尾汤', '谷稻小庄 ', '宝宝版牛肉肠粉', '百威啤酒罐装']\n",
      "1596 ['姜葱炒花蟹', '辣炒花蛤', '番茄甘蓝', '打卤面', '哈尔滨啤酒罐装']\n"
     ]
    }
   ],
   "source": [
    "#保存推荐字典\n",
    "import csv\n",
    "newfile=open('推荐字典.csv','w',newline='')\n",
    "filewriter=csv.writer(newfile)\n",
    "for k,v in model.dic.items():\n",
    "    print(k,v)\n",
    "    filewriter.writerow([k,v])\n",
    "newfile.close()"
   ]
  }
 ],
 "metadata": {
  "kernelspec": {
   "display_name": "Python 3",
   "language": "python",
   "name": "python3"
  },
  "language_info": {
   "codemirror_mode": {
    "name": "ipython",
    "version": 3
   },
   "file_extension": ".py",
   "mimetype": "text/x-python",
   "name": "python",
   "nbconvert_exporter": "python",
   "pygments_lexer": "ipython3",
   "version": "3.7.3"
  },
  "pycharm": {
   "stem_cell": {
    "cell_type": "raw",
    "metadata": {
     "collapsed": false
    },
    "source": []
   }
  }
 },
 "nbformat": 4,
 "nbformat_minor": 2
}
